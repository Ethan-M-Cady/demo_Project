{
 "cells": [
  {
   "cell_type": "code",
   "execution_count": 75,
   "metadata": {},
   "outputs": [],
   "source": [
    "# some useful mysklearn package import statements and reloads\n",
    "import importlib\n",
    "\n",
    "import mysklearn.myutils\n",
    "importlib.reload(mysklearn.myutils)\n",
    "import mysklearn.myutils as myutils\n",
    "\n",
    "# uncomment once you paste your mypytable.py into mysklearn package\n",
    "import mysklearn.mypytable\n",
    "importlib.reload(mysklearn.mypytable)\n",
    "from mysklearn.mypytable import MyPyTable \n",
    "\n",
    "import mysklearn.myruleminer\n",
    "importlib.reload(mysklearn.myruleminer)\n",
    "from mysklearn.myruleminer import MyAssociationRuleMiner"
   ]
  },
  {
   "cell_type": "code",
   "execution_count": 76,
   "metadata": {},
   "outputs": [],
   "source": [
    "#reload imports \n",
    "importlib.reload(mysklearn.myutils)\n",
    "importlib.reload(mysklearn.myruleminer)\n",
    "from mysklearn.myruleminer import MyAssociationRuleMiner # might need () at end\n",
    "\n",
    "file_name = (\"input_data/agaricus-lepiota.txt\")\n",
    "table = MyPyTable().load_from_file(file_name)\n",
    "header = [\"class\",\"cap-shape\",\"cap-surface\",\"cap-color\",\"bruises?\",\"odor\",\"gill-attachment\",\"gill-spacing\",\"gill-size\",\"gill-color\",\"stalk-shape\",\"stalk-root\",\"stalk-surface-above-ring\",\"stalk-surface-below-ring\",\"stalk-color-above-ring\",\"stalk-color-below-ring\",\"veil-type\",\"veil-color\",\"ring-number\",\"ring-type\",\"spore-print-color\",\"population\",\"habitat\"\n",
    "]\n",
    "myutils.prepend_attribute_label(table.data, header)"
   ]
  },
  {
   "cell_type": "markdown",
   "metadata": {},
   "source": [
    "# Step 2: 🍄 Mushroom Rule Mining 🍄\n",
    "\n",
    "#### Question 1 -> Do the generated rule make sense to you?\n",
    "#### Answer 1 -> I wasn't able to find any subsets of attributes using the default minsup and minconf values to acquire any rules. So I had to bring down the minsup value to 0.04, but I kept the minconf value at default. I made several different tables. \n",
    "#### For Table #1, I used the attributes class, cap-shape, and odor. My results show that if a mushroom has an odor that is almond, anise, then you can eat it knowing that it is definitely 100 percent edible. If a mushroom has no odor, then there is around a 96 percent chance that it is edible. I also found that if the cap shape is shaped like a bell, then there is roughly an 86 percent chance that it is edible.\n",
    "#### For Table #2, I used the attributes class, population, and habitat. My results show that if the population of the mushroom is abundant or numerous, then the mushroom is definitely 100 percent edible. Also, that if the mushroom is found in a grassy habitat with a scattered population, then there is about an 80 percent chance that it is edible. Also, that if a mushroom has a grassy habitat and its population is several, then the mushroom is definitely 100 percent poisonous.\n",
    "#### For Table #3, I used the attributes class, number of rings, and ring type. My results show that if a mushroom has an evanescent ring, then there is a 99 percent chance that the mushroom is edible. It also shows that if the mushroom has a large ring type then it is definitely 100 percent poisonous. It also shows that if a mushroom is edible, then it has a 98.6 percent chance of having one ring.\n",
    "#### I can't really say I was expecting or not expecting any of these results as my knowledge regarding mushrooms is pretty limited.\n",
    "\n",
    "#### Question 2 -> How do different values of minsup and minconf change the rules generated?\n",
    "#### Answer 2 -> Same as with the titanic dataset, lower the minsup and minconf values, the more rules will be produced, and higher the values, less rules will be produced. With a lower minsup, the rule does not have to show up as much. With a lower minconf, the rule does not have to be satisfied/correct as much.\n",
    "\n",
    "\n"
   ]
  },
  {
   "cell_type": "code",
   "execution_count": 77,
   "metadata": {},
   "outputs": [
    {
     "name": "stdout",
     "output_type": "stream",
     "text": [
      "  #  Rule                                      Support    Confidence       Lift\n",
      "---  --------------------------------------  ---------  ------------  ---------\n",
      "  1  IF cap-shape=b THEN class=e             0.0460666      0.866667  0.0745413\n",
      "  2  IF cap-shape=f AND class=e THEN odor=n  0.233168       0.90137   0.474063\n",
      "  3  IF cap-shape=f AND odor=n THEN class=e  0.233168       0.970501  0.377294\n",
      "  4  IF cap-shape=f AND class=p THEN odor=f  0.140326       0.814815  0.5\n",
      "  5  IF cap-shape=f AND odor=f THEN class=p  0.140326       1         0.367347\n",
      "  6  IF cap-shape=x AND odor=n THEN class=e  0.233168       1         0.377294\n",
      "  7  IF cap-shape=x AND odor=f THEN class=p  0.140326       1         0.367347\n",
      "  8  IF odor=a THEN class=e                  0.0708717      1         0.114679\n",
      "  9  IF odor=l THEN class=e                  0.0708717      1         0.114679\n",
      " 10  IF odor=n THEN class=e                  0.476258       0.9683    0.770642\n",
      " 11  IF odor=f THEN class=p                  0.280652       1         0.734694\n",
      " 12  IF odor=p THEN class=p                  0.0453579      1         0.118738\n"
     ]
    }
   ],
   "source": [
    "# TABLE number 1\n",
    "\n",
    "the_class = table.get_column(\"class\")\n",
    "the_cap_shape = table.get_column(\"cap-shape\")\n",
    "the_odor = table.get_column(\"odor\")\n",
    "\n",
    "\n",
    "donkey = MyAssociationRuleMiner()\n",
    "donkey.__init__(0.04, 0.8)\n",
    "new_table = []\n",
    "for i in range(0, len(table.data)):\n",
    "    new_table.append([the_class[i], the_cap_shape[i], the_odor[i]])\n",
    "donkey.print_association_rules(new_table)"
   ]
  },
  {
   "cell_type": "code",
   "execution_count": 78,
   "metadata": {},
   "outputs": [
    {
     "name": "stdout",
     "output_type": "stream",
     "text": [
      "  #  Rule                                          Support    Confidence       Lift\n",
      "---  ------------------------------------------  ---------  ------------  ---------\n",
      "  1  IF class=e AND population=v THEN habitat=d  0.170092       0.895522  0.385233\n",
      "  2  IF class=e AND population=y THEN habitat=d  0.1545         0.838462  0.34992\n",
      "  3  IF habitat=d AND population=y THEN class=e  0.1545         0.801471  0.25\n",
      "  4  IF population=a THEN class=e AND habitat=g  0.0680369      1         0.342857\n",
      "  5  IF class=e AND population=a THEN habitat=g  0.0680369      1         0.206452\n",
      "  6  IF habitat=g AND population=a THEN class=e  0.0680369      1         0.110092\n",
      "  7  IF habitat=g AND population=s THEN class=e  0.0992204      0.804598  0.16055\n",
      "  8  IF habitat=m THEN class=e                   0.0453579      0.876712  0.0733945\n",
      "  9  IF population=a THEN class=e                0.0680369      1         0.110092\n",
      " 10  IF population=n THEN class=e                0.0453579      1         0.0733945\n",
      " 11  IF habitat=g AND population=v THEN class=p  0.0687456      1         0.179963\n",
      " 12  IF population=a THEN habitat=g              0.0680369      1         0.206452\n"
     ]
    }
   ],
   "source": [
    "# TABLE number 2\n",
    "\n",
    "the_class = table.get_column(\"class\")\n",
    "the_population = table.get_column(\"population\")\n",
    "the_habitat = table.get_column(\"habitat\")\n",
    "\n",
    "donkey2 = MyAssociationRuleMiner()\n",
    "donkey2.__init__(0.04, 0.8)\n",
    "new_table = []\n",
    "for i in range(0, len(table.data)):\n",
    "    new_table.append([the_class[i], the_population[i], the_habitat[i]])\n",
    "donkey2.print_association_rules(new_table)\n",
    "\n"
   ]
  },
  {
   "cell_type": "code",
   "execution_count": 79,
   "metadata": {},
   "outputs": [
    {
     "name": "stdout",
     "output_type": "stream",
     "text": [
      "  #  Rule                                             Support    Confidence      Lift\n",
      "---  ---------------------------------------------  ---------  ------------  --------\n",
      "  1  IF class=e THEN ring-number=o                   0.609497      0.986239  0.626822\n",
      "  2  IF ring-type=e THEN class=e AND ring-number=o   0.144578      0.990291  0.237209\n",
      "  3  IF class=e AND ring-type=e THEN ring-number=o   0.144578      1         0.148688\n",
      "  4  IF ring-number=o AND ring-type=e THEN class=e   0.144578      0.990291  0.233945\n",
      "  5  IF class=e AND ring-type=p THEN ring-number=o   0.464918      0.982036  0.478134\n",
      "  6  IF ring-type=e THEN class=e                     0.144578      0.990291  0.233945\n",
      "  7  IF class=p THEN ring-number=o                   0.362863      0.949907  0.373178\n",
      "  8  IF ring-type=l THEN class=p AND ring-number=o   0.229624      1         0.632812\n",
      "  9  IF class=p AND ring-type=l THEN ring-number=o   0.229624      1         0.236152\n",
      " 10  IF ring-number=o AND ring-type=l THEN class=p   0.229624      1         0.601113\n",
      " 11  IF class=p AND ring-type=p THEN ring-number=o   0.131821      0.911765  0.135569\n",
      " 12  IF ring-type=l THEN class=p                     0.229624      1         0.601113\n",
      " 13  IF ring-type=e THEN ring-number=o               0.145996      1         0.150146\n",
      " 14  IF ring-type=l THEN ring-number=o               0.229624      1         0.236152\n",
      " 15  IF ring-type=p THEN ring-number=o               0.59674       0.965596  0.613703\n"
     ]
    }
   ],
   "source": [
    "# TABLE number 3\n",
    "\n",
    "the_class = table.get_column(\"class\")\n",
    "the_ring_number = table.get_column(\"ring-number\")\n",
    "the_ring_type = table.get_column(\"ring-type\")\n",
    "\n",
    "donkey3 = MyAssociationRuleMiner()\n",
    "donkey3.__init__(0.04, 0.8)\n",
    "new_table = []\n",
    "for i in range(0, len(table.data)):\n",
    "    new_table.append([the_class[i], the_ring_number[i], the_ring_type[i]])\n",
    "donkey3.print_association_rules(new_table)"
   ]
  }
 ],
 "metadata": {
  "kernelspec": {
   "display_name": "Python 3.9.12",
   "language": "python",
   "name": "python3"
  },
  "language_info": {
   "codemirror_mode": {
    "name": "ipython",
    "version": 3
   },
   "file_extension": ".py",
   "mimetype": "text/x-python",
   "name": "python",
   "nbconvert_exporter": "python",
   "pygments_lexer": "ipython3",
   "version": "3.9.12"
  },
  "orig_nbformat": 2,
  "vscode": {
   "interpreter": {
    "hash": "912de9ec26c84614c5366e4b2d038d7f2b505a654b9931d55eef600ef434d0c6"
   }
  }
 },
 "nbformat": 4,
 "nbformat_minor": 2
}
