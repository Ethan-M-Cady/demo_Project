{
 "cells": [
  {
   "cell_type": "code",
   "execution_count": 6,
   "metadata": {},
   "outputs": [],
   "source": [
    "# some useful mysklearn package import statements and reloads\n",
    "import importlib\n",
    "\n",
    "import mysklearn.myutils\n",
    "importlib.reload(mysklearn.myutils)\n",
    "import mysklearn.myutils as myutils\n",
    "\n",
    "# uncomment once you paste your mypytable.py into mysklearn package\n",
    "import mysklearn.mypytable\n",
    "importlib.reload(mysklearn.mypytable)\n",
    "from mysklearn.mypytable import MyPyTable \n",
    "\n",
    "import mysklearn.myruleminer\n",
    "importlib.reload(mysklearn.myruleminer)\n",
    "from mysklearn.myruleminer import MyAssociationRuleMiner"
   ]
  },
  {
   "cell_type": "markdown",
   "metadata": {},
   "source": [
    "# Step 1: 🚢 Titanic Rule Mining 🚢\n",
    "\n",
    "#### Question 1 -> Do the results make sense to you?\n",
    "#### Answer 1 -> The 18 rules that my algorithm gave me (using minsup = 0.25, and minconf = 0.80)did make sense to me, and were they were expected. I've seen the movie Titanic by James Cameron, and from watching it I know that those who were selected to be on the life rafts were almost all women or children. And if men were put on the life rafts, it was because they were first class. The produced rules support the fact that women were favored. Rule #15 says that IF survived=yes THEN sex=female. Also show that those who did not survive were adults. Rule #11 says that IF survived=no THEN age=adult. We don't see any age=child results, but that is because the support is 0.25, and less than 25 percent of the passengers on board the titanic were children. If we change the minsup and minconf values, we will see more rules produced, and they will include children.\n",
    "\n",
    "#### Question 2 -> How do they compare to PA7 Results?\n",
    "#### Answer 2 -> I did not finish PA7, but by talking to my peers in the class, it sounds like the results from PA8 closely resemble those produced by their Decision Classifer Trees in PA7."
   ]
  },
  {
   "cell_type": "code",
   "execution_count": 7,
   "metadata": {},
   "outputs": [
    {
     "ename": "TypeError",
     "evalue": "'NoneType' object is not iterable",
     "output_type": "error",
     "traceback": [
      "\u001b[0;31m---------------------------------------------------------------------------\u001b[0m",
      "\u001b[0;31mTypeError\u001b[0m                                 Traceback (most recent call last)",
      "\u001b[1;32m/Users/ethancady/Desktop/CPSC322/PA-HOMEWORK/PAS/PA8/pa8-titanic.ipynb Cell 3\u001b[0m in \u001b[0;36m<cell line: 12>\u001b[0;34m()\u001b[0m\n\u001b[1;32m     <a href='vscode-notebook-cell:/Users/ethancady/Desktop/CPSC322/PA-HOMEWORK/PAS/PA8/pa8-titanic.ipynb#W2sZmlsZQ%3D%3D?line=9'>10</a>\u001b[0m \u001b[39m#MyAssociationRuleMiner().print_association_rules(table.data)\u001b[39;00m\n\u001b[1;32m     <a href='vscode-notebook-cell:/Users/ethancady/Desktop/CPSC322/PA-HOMEWORK/PAS/PA8/pa8-titanic.ipynb#W2sZmlsZQ%3D%3D?line=10'>11</a>\u001b[0m robot \u001b[39m=\u001b[39m MyAssociationRuleMiner()\n\u001b[0;32m---> <a href='vscode-notebook-cell:/Users/ethancady/Desktop/CPSC322/PA-HOMEWORK/PAS/PA8/pa8-titanic.ipynb#W2sZmlsZQ%3D%3D?line=11'>12</a>\u001b[0m robot\u001b[39m.\u001b[39;49mprint_association_rules()\n",
      "File \u001b[0;32m~/Desktop/CPSC322/PA-HOMEWORK/PAS/PA8/mysklearn/myruleminer.py:59\u001b[0m, in \u001b[0;36mMyAssociationRuleMiner.print_association_rules\u001b[0;34m(self)\u001b[0m\n\u001b[1;32m     57\u001b[0m \u001b[39mdef\u001b[39;00m \u001b[39mprint_association_rules\u001b[39m(\u001b[39mself\u001b[39m):\n\u001b[1;32m     58\u001b[0m     \u001b[39m#self.X_train = X_train\u001b[39;00m\n\u001b[0;32m---> 59\u001b[0m     \u001b[39mself\u001b[39m\u001b[39m.\u001b[39mrules \u001b[39m=\u001b[39m myutils\u001b[39m.\u001b[39;49mapriori(\u001b[39mself\u001b[39;49m\u001b[39m.\u001b[39;49mX_train, \u001b[39mself\u001b[39;49m\u001b[39m.\u001b[39;49mminsup, \u001b[39mself\u001b[39;49m\u001b[39m.\u001b[39;49mminconf)\n\u001b[1;32m     60\u001b[0m     myutils\u001b[39m.\u001b[39mpretty_print_rules(\u001b[39mself\u001b[39m\u001b[39m.\u001b[39mrules, \u001b[39mself\u001b[39m\u001b[39m.\u001b[39mX_train)\n\u001b[1;32m     62\u001b[0m     \u001b[39m\"\"\"Prints the association rules in the format \"IF val AND ... THEN val AND...\", one rule on each line.\u001b[39;00m\n\u001b[1;32m     63\u001b[0m \n\u001b[1;32m     64\u001b[0m \u001b[39m    Notes:\u001b[39;00m\n\u001b[0;32m   (...)\u001b[0m\n\u001b[1;32m     67\u001b[0m \u001b[39m        Consider using the tabulate library to help with this: https://pypi.org/project/tabulate/\u001b[39;00m\n\u001b[1;32m     68\u001b[0m \u001b[39m    \"\"\"\u001b[39;00m\n",
      "File \u001b[0;32m~/Desktop/CPSC322/PA-HOMEWORK/PAS/PA8/mysklearn/myutils.py:224\u001b[0m, in \u001b[0;36mapriori\u001b[0;34m(table, minsup, minconf)\u001b[0m\n\u001b[1;32m    222\u001b[0m \u001b[39mdef\u001b[39;00m \u001b[39mapriori\u001b[39m(table, minsup, minconf):\n\u001b[1;32m    223\u001b[0m     C, L \u001b[39m=\u001b[39m [], []\n\u001b[0;32m--> 224\u001b[0m     Cinit, Linit \u001b[39m=\u001b[39m make_Cinit_and_Linit(table, minsup)\n\u001b[1;32m    225\u001b[0m     C\u001b[39m.\u001b[39mappend(Cinit)\n\u001b[1;32m    226\u001b[0m     L\u001b[39m.\u001b[39mappend(Linit)\n",
      "File \u001b[0;32m~/Desktop/CPSC322/PA-HOMEWORK/PAS/PA8/mysklearn/myutils.py:91\u001b[0m, in \u001b[0;36mmake_Cinit_and_Linit\u001b[0;34m(_table, minsup)\u001b[0m\n\u001b[1;32m     89\u001b[0m \u001b[39mdef\u001b[39;00m \u001b[39mmake_Cinit_and_Linit\u001b[39m(_table, minsup):\n\u001b[1;32m     90\u001b[0m     unique_items \u001b[39m=\u001b[39m []\n\u001b[0;32m---> 91\u001b[0m     \u001b[39mfor\u001b[39;00m row \u001b[39min\u001b[39;00m _table:\n\u001b[1;32m     92\u001b[0m         \u001b[39mfor\u001b[39;00m item \u001b[39min\u001b[39;00m row:\n\u001b[1;32m     93\u001b[0m             \u001b[39mif\u001b[39;00m unique_items\u001b[39m.\u001b[39mcount(item) \u001b[39m==\u001b[39m \u001b[39m0\u001b[39m:\n",
      "\u001b[0;31mTypeError\u001b[0m: 'NoneType' object is not iterable"
     ]
    }
   ],
   "source": [
    "#reload imports \n",
    "importlib.reload(mysklearn.myutils)\n",
    "importlib.reload(mysklearn.myruleminer)\n",
    "from mysklearn.myruleminer import MyAssociationRuleMiner # might need () at end\n",
    "\n",
    "file_name = (\"input_data/titanic.csv\")\n",
    "table = MyPyTable().load_from_file(file_name)\n",
    "header = [\"class\", \"age\", \"sex\", \"survived\"]\n",
    "myutils.prepend_attribute_label(table.data, header)\n",
    "#MyAssociationRuleMiner().print_association_rules(table.data)\n",
    "MyAssociationRuleMiner().print_association_rules()"
   ]
  },
  {
   "cell_type": "code",
   "execution_count": 110,
   "metadata": {},
   "outputs": [
    {
     "name": "stdout",
     "output_type": "stream",
     "text": [
      "  #  Rule                                                             Support    Confidence      Lift\n",
      "---  -------------------------------------------------------------  ---------  ------------  --------\n",
      "  1  IF class=second THEN age=adult                                  0.284871      0.888102  0.299713\n",
      "  2  IF class=third THEN age=adult                                   0.40209       1         0.42304\n",
      "  3  IF class=third THEN age=adult AND sex=female                    0.39164       0.974011  0.517097\n",
      "  4  IF age=adult AND class=third THEN sex=female                    0.39164       0.974011  0.497978\n",
      "  5  IF class=third AND sex=female THEN age=adult                    0.39164       1         0.412046\n",
      "  6  IF class=third AND survived=yes THEN age=adult                  0.30577       1         0.321702\n",
      "  7  IF sex=female THEN age=adult                                    0.757383      0.963027  0.796845\n",
      "  8  IF survived=yes THEN age=adult AND sex=female                   0.603816      0.891946  0.797241\n",
      "  9  IF age=adult AND survived=yes THEN sex=female                   0.603816      0.9242    0.767764\n",
      " 10  IF sex=female AND survived=yes THEN age=adult                   0.603816      0.97434   0.635277\n",
      " 11  IF survived=no THEN age=adult                                   0.297138      0.919831  0.31262\n",
      " 12  IF survived=yes THEN age=adult                                  0.653339      0.965101  0.68738\n",
      " 13  IF class=third THEN sex=female                                  0.39164       0.974011  0.497978\n",
      " 14  IF class=third AND survived=yes THEN sex=female                 0.304407      0.995542  0.38706\n",
      " 15  IF survived=yes THEN sex=female                                 0.619718      0.915436  0.787984\n",
      " 16  IF class=third AND survived=yes THEN age=adult AND sex=female   0.304407      0.995542  0.40192\n",
      " 17  IF age=adult AND class=third AND survived=yes THEN sex=female   0.304407      0.995542  0.38706\n",
      " 18  IF class=third AND sex=female AND survived=yes THEN age=adult   0.304407      1         0.320268\n"
     ]
    }
   ],
   "source": [
    "importlib.reload(mysklearn.myutils)\n",
    "importlib.reload(mysklearn.myruleminer)\n",
    "from mysklearn.myruleminer import MyAssociationRuleMiner # might need () at end\n",
    "\n",
    "file_name = (\"input_data/titanic.csv\")\n",
    "table = MyPyTable().load_from_file(file_name)\n",
    "header = [\"class\", \"age\", \"sex\", \"survived\"]\n",
    "myutils.prepend_attribute_label(table.data, header)\n",
    "#MyAssociationRuleMiner().print_association_rules(table.data)\n",
    "\n",
    "the_class = table.get_column(\"class\")\n",
    "the_age = table.get_column(\"age\")\n",
    "the_sex = table.get_column(\"sex\")\n",
    "the_survived = table.get_column(\"survived\")\n",
    "\n",
    "\n",
    "MyAssociationRuleMiner().print_association_rules(table.data)\n"
   ]
  },
  {
   "cell_type": "markdown",
   "metadata": {},
   "source": [
    "#### Question 3 -> How did altering different minsup and minconf change rules?\n",
    "#### Answer 3 -> I noticed that by lowering the minsup and minconf values, the amount of rules produced increased. Below, I changed the minsup value to 0.01 and the minconf value to 0.7. The number of rules increased from 18 to 103. I also found out some pretty interesting stuff like the confidence value being 1 on Rule #41, which stated that IF age=child AND class=first THEN survived=no. I would have thought that all children that were first class would have survived, but none of them did apparently. Pretty sad. Also, I thought Rule #42 stating that IF age=child THEN class=second having a confidence value of roughly 0.72 was interesting. I did not know that over 70 percent of children aboard Titanic were second class. I also made the minsup and minconf much higher with minsup going to 0.5 and minconf going to 0.9. Only 5 rules were produced, which is to be expected. Higher the minsup and monconf, fewer the rules. I found that if rules exist with high minsup and minconf values, they will still exist if we lower the minsup and minconf values.\n"
   ]
  },
  {
   "cell_type": "code",
   "execution_count": 111,
   "metadata": {},
   "outputs": [
    {
     "name": "stdout",
     "output_type": "stream",
     "text": [
      "  #  Rule                                                              Support    Confidence       Lift\n",
      "---  --------------------------------------------------------------  ---------  ------------  ---------\n",
      "  1  IF class=crew THEN age=adult                                    0.144934       0.981538  0.152486\n",
      "  2  IF class=crew AND sex=female THEN age=adult                     0.0795093      0.972222  0.083652\n",
      "  3  IF class=crew AND sex=male THEN age=adult                       0.0654248      0.993103  0.0688337\n",
      "  4  IF class=crew AND survived=no THEN age=adult                    0.0895048      0.970443  0.0941683\n",
      "  5  IF class=crew AND survived=yes THEN age=adult                   0.0554294      1         0.0583174\n",
      "  6  IF class=first THEN age=adult                                   0.118582       0.915789  0.124761\n",
      "  7  IF class=first AND sex=female THEN age=adult                    0.0763289      0.938547  0.0803059\n",
      "  8  IF class=first AND sex=male THEN age=adult                      0.0422535      0.877358  0.0444551\n",
      "  9  IF class=first AND survived=no THEN age=adult                   0.0427079      0.79661   0.0449331\n",
      " 10  IF class=first AND survived=yes THEN age=adult                  0.0758746      1         0.0798279\n",
      " 11  IF class=second THEN age=adult                                  0.284871       0.888102  0.299713\n",
      " 12  IF age=adult AND class=second THEN sex=female                   0.209905       0.736842  0.266898\n",
      " 13  IF class=second AND sex=female THEN age=adult                   0.209905       0.905882  0.220841\n",
      " 14  IF class=second AND sex=male THEN age=adult                     0.0749659      0.841837  0.0788719\n",
      " 15  IF class=second AND survived=no THEN age=adult                  0.0686052      0.848315  0.0721797\n",
      " 16  IF age=adult AND class=second THEN survived=yes                 0.216265       0.759171  0.319463\n",
      " 17  IF class=second AND survived=yes THEN age=adult                 0.216265       0.901515  0.227533\n",
      " 18  IF class=third THEN age=adult                                   0.40209        1         0.42304\n",
      " 19  IF class=third THEN age=adult AND sex=female                    0.39164        0.974011  0.517097\n",
      " 20  IF age=adult AND class=third THEN sex=female                    0.39164        0.974011  0.497978\n",
      " 21  IF class=third AND sex=female THEN age=adult                    0.39164        1         0.412046\n",
      " 22  IF class=third AND sex=male THEN age=adult                      0.0104498      1         0.0109943\n",
      " 23  IF class=third AND survived=no THEN age=adult                   0.0963199      1         0.101338\n",
      " 24  IF class=third THEN age=adult AND survived=yes                  0.30577        0.760452  0.468011\n",
      " 25  IF age=adult AND class=third THEN survived=yes                  0.30577        0.760452  0.451678\n",
      " 26  IF class=third AND survived=yes THEN age=adult                  0.30577        1         0.321702\n",
      " 27  IF age=adult THEN sex=female                                    0.757383       0.796845  0.963027\n",
      " 28  IF sex=female THEN age=adult                                    0.757383       0.963027  0.796845\n",
      " 29  IF sex=female AND survived=no THEN age=adult                    0.153567       0.920981  0.161568\n",
      " 30  IF sex=female THEN age=adult AND survived=yes                   0.603816       0.767764  0.9242\n",
      " 31  IF survived=yes THEN age=adult AND sex=female                   0.603816       0.891946  0.797241\n",
      " 32  IF age=adult AND sex=female THEN survived=yes                   0.603816       0.797241  0.891946\n",
      " 33  IF age=adult AND survived=yes THEN sex=female                   0.603816       0.9242    0.767764\n",
      " 34  IF sex=female AND survived=yes THEN age=adult                   0.603816       0.97434   0.635277\n",
      " 35  IF sex=male THEN age=adult                                      0.193094       0.904255  0.203155\n",
      " 36  IF age=adult AND sex=male THEN survived=no                      0.143571       0.743529  0.444444\n",
      " 37  IF sex=male AND survived=no THEN age=adult                      0.143571       0.918605  0.151052\n",
      " 38  IF sex=male AND survived=yes THEN age=adult                     0.0495229      0.865079  0.0521033\n",
      " 39  IF survived=no THEN age=adult                                   0.297138       0.919831  0.31262\n",
      " 40  IF survived=yes THEN age=adult                                  0.653339       0.965101  0.68738\n",
      " 41  IF age=child AND class=first THEN survived=no                   0.0109041      1         0.0337553\n",
      " 42  IF age=child THEN class=second                                  0.0358928      0.724771  0.111898\n",
      " 43  IF age=child AND sex=female THEN class=second                   0.0218083      0.75      0.0679887\n",
      " 44  IF age=child AND survived=yes THEN class=second                 0.0236256      1         0.0736544\n",
      " 45  IF class=crew AND survived=yes THEN sex=female                  0.053612       0.967213  0.0681687\n",
      " 46  IF class=crew AND sex=male THEN survived=no                     0.0640618      0.972414  0.198312\n",
      " 47  IF class=first AND sex=female THEN survived=yes                 0.0699682      0.860335  0.103356\n",
      " 48  IF class=first AND survived=yes THEN sex=female                 0.0699682      0.922156  0.0889659\n",
      " 49  IF class=first AND sex=male THEN survived=no                    0.0422535      0.877358  0.130802\n",
      " 50  IF class=first AND survived=no THEN sex=male                    0.0422535      0.788136  0.197872\n",
      " 51  IF class=second THEN sex=female                                 0.231713       0.72238   0.294627\n",
      " 52  IF class=second AND sex=female THEN survived=yes                0.191731       0.827451  0.283221\n",
      " 53  IF class=second AND survived=yes THEN sex=female                0.191731       0.799242  0.24379\n",
      " 54  IF sex=male AND survived=yes THEN class=second                  0.0481599      0.84127   0.150142\n",
      " 55  IF class=second THEN survived=yes                               0.239891       0.747875  0.354362\n",
      " 56  IF class=third THEN sex=female                                  0.39164        0.974011  0.497978\n",
      " 57  IF class=third AND survived=no THEN sex=female                  0.0872331      0.90566   0.110919\n",
      " 58  IF class=third THEN sex=female AND survived=yes                 0.304407       0.757062  0.491202\n",
      " 59  IF class=third AND sex=female THEN survived=yes                 0.304407       0.777262  0.449664\n",
      " 60  IF class=third AND survived=yes THEN sex=female                 0.304407       0.995542  0.38706\n",
      " 61  IF class=third THEN survived=yes                                0.30577        0.760452  0.451678\n",
      " 62  IF sex=female THEN survived=yes                                 0.619718       0.787984  0.915436\n",
      " 63  IF survived=yes THEN sex=female                                 0.619718       0.915436  0.787984\n",
      " 64  IF sex=male THEN survived=no                                    0.156293       0.731915  0.483826\n",
      " 65  IF class=crew AND sex=female AND survived=no THEN age=adult     0.0258973      0.919355  0.0272467\n",
      " 66  IF class=crew AND survived=yes THEN age=adult AND sex=female    0.053612       0.967213  0.0707858\n",
      " 67  IF age=adult AND class=crew AND survived=yes THEN sex=female    0.053612       0.967213  0.0681687\n",
      " 68  IF class=crew AND sex=female AND survived=yes THEN age=adult    0.053612       1         0.0564054\n",
      " 69  IF class=crew AND sex=male THEN age=adult AND survived=no       0.0636075      0.965517  0.214067\n",
      " 70  IF age=adult AND class=crew AND sex=male THEN survived=no       0.0636075      0.972222  0.196906\n",
      " 71  IF age=adult AND class=crew AND survived=no THEN sex=male       0.0636075      0.71066   0.297872\n",
      " 72  IF class=crew AND sex=male AND survived=no THEN age=adult       0.0636075      0.992908  0.0669216\n",
      " 73  IF class=first AND sex=female THEN age=adult AND survived=yes   0.0699682      0.860335  0.107093\n",
      " 74  IF class=first AND survived=yes THEN age=adult AND sex=female   0.0699682      0.922156  0.0923815\n",
      " 75  IF age=adult AND class=first AND sex=female THEN survived=yes   0.0699682      0.916667  0.103356\n",
      " 76  IF age=adult AND class=first AND survived=yes THEN sex=female   0.0699682      0.922156  0.0889659\n",
      " 77  IF class=first AND sex=female AND survived=yes THEN age=adult   0.0699682      1         0.0736138\n",
      " 78  IF class=first AND sex=male THEN age=adult AND survived=no      0.0363471      0.754717  0.122324\n",
      " 79  IF age=adult AND class=first AND sex=male THEN survived=no      0.0363471      0.860215  0.112518\n",
      " 80  IF age=adult AND class=first AND survived=no THEN sex=male      0.0363471      0.851064  0.170213\n",
      " 81  IF class=first AND sex=male AND survived=no THEN age=adult      0.0363471      0.860215  0.0382409\n",
      " 82  IF class=second AND sex=female AND survived=no THEN age=adult   0.0340754      0.852273  0.0358509\n",
      " 83  IF class=second AND sex=female THEN age=adult AND survived=yes  0.175829       0.758824  0.269124\n",
      " 84  IF class=second AND survived=yes THEN age=adult AND sex=female  0.175829       0.732955  0.232154\n",
      " 85  IF age=adult AND class=second AND sex=female THEN survived=yes  0.175829       0.837662  0.259732\n",
      " 86  IF age=adult AND class=second AND survived=yes THEN sex=female  0.175829       0.813025  0.22357\n",
      " 87  IF class=second AND sex=female AND survived=yes THEN age=adult  0.175829       0.917062  0.18499\n",
      " 88  IF class=second AND sex=male AND survived=no THEN age=adult     0.0345298      0.844444  0.0363289\n",
      " 89  IF sex=male AND survived=yes THEN age=adult AND class=second    0.0404362      0.706349  0.141946\n",
      " 90  IF age=adult AND sex=male AND survived=yes THEN class=second    0.0404362      0.816514  0.126062\n",
      " 91  IF class=second AND sex=male AND survived=yes THEN age=adult    0.0404362      0.839623  0.042543\n",
      " 92  IF class=third AND survived=no THEN age=adult AND sex=female    0.0872331      0.90566   0.115177\n",
      " 93  IF age=adult AND class=third AND survived=no THEN sex=female    0.0872331      0.90566   0.110919\n",
      " 94  IF class=third AND sex=female AND survived=no THEN age=adult    0.0872331      1         0.0917782\n",
      " 95  IF class=third THEN age=adult AND sex=female AND survived=yes   0.304407       0.757062  0.504138\n",
      " 96  IF age=adult AND class=third THEN sex=female AND survived=yes   0.304407       0.757062  0.491202\n",
      " 97  IF class=third AND sex=female THEN age=adult AND survived=yes   0.304407       0.777262  0.465925\n",
      " 98  IF class=third AND survived=yes THEN age=adult AND sex=female   0.304407       0.995542  0.40192\n",
      " 99  IF age=adult AND class=third AND sex=female THEN survived=yes   0.304407       0.777262  0.449664\n",
      "100  IF age=adult AND class=third AND survived=yes THEN sex=female   0.304407       0.995542  0.38706\n",
      "101  IF class=third AND sex=female AND survived=yes THEN age=adult   0.304407       1         0.320268\n",
      "102  IF age=child AND class=second AND sex=female THEN survived=yes  0.0159019      0.729167  0.0234899\n",
      "103  IF age=child AND sex=female AND survived=yes THEN class=second  0.0159019      1         0.0495751\n"
     ]
    }
   ],
   "source": [
    "robot = MyAssociationRuleMiner()\n",
    "robot.__init__(0.01, 0.7)\n",
    "robot.print_association_rules(table.data)\n",
    "\n"
   ]
  },
  {
   "cell_type": "code",
   "execution_count": 112,
   "metadata": {},
   "outputs": [
    {
     "name": "stdout",
     "output_type": "stream",
     "text": [
      "  #  Rule                                             Support    Confidence      Lift\n",
      "---  ---------------------------------------------  ---------  ------------  --------\n",
      "  1  IF sex=female THEN age=adult                    0.757383      0.963027  0.796845\n",
      "  2  IF age=adult AND survived=yes THEN sex=female   0.603816      0.9242    0.767764\n",
      "  3  IF sex=female AND survived=yes THEN age=adult   0.603816      0.97434   0.635277\n",
      "  4  IF survived=yes THEN age=adult                  0.653339      0.965101  0.68738\n",
      "  5  IF survived=yes THEN sex=female                 0.619718      0.915436  0.787984\n"
     ]
    }
   ],
   "source": [
    "alien = MyAssociationRuleMiner()\n",
    "alien.__init__(0.5, 0.9)\n",
    "alien.print_association_rules(table.data)"
   ]
  }
 ],
 "metadata": {
  "kernelspec": {
   "display_name": "Python 3.9.12",
   "language": "python",
   "name": "python3"
  },
  "language_info": {
   "codemirror_mode": {
    "name": "ipython",
    "version": 3
   },
   "file_extension": ".py",
   "mimetype": "text/x-python",
   "name": "python",
   "nbconvert_exporter": "python",
   "pygments_lexer": "ipython3",
   "version": "3.9.12"
  },
  "orig_nbformat": 2,
  "vscode": {
   "interpreter": {
    "hash": "912de9ec26c84614c5366e4b2d038d7f2b505a654b9931d55eef600ef434d0c6"
   }
  }
 },
 "nbformat": 4,
 "nbformat_minor": 2
}
